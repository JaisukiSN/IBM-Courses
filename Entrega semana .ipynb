{
 "cells": [
  {
   "cell_type": "markdown",
   "id": "04ce2264",
   "metadata": {},
   "source": [
    "# Data Science Tools"
   ]
  },
  {
   "cell_type": "markdown",
   "id": "22138712",
   "metadata": {},
   "source": [
    "## Introduction:"
   ]
  },
  {
   "cell_type": "markdown",
   "id": "f895cdaa",
   "metadata": {},
   "source": [
    "### This notebook, is to presentation tools for data science in course IBM Data Science."
   ]
  },
  {
   "cell_type": "markdown",
   "id": "0e633af5",
   "metadata": {},
   "source": [
    "#### List to main program language to data science\n",
    "1. Python\n",
    "2. R\n",
    "3. SQL"
   ]
  },
  {
   "cell_type": "markdown",
   "id": "bfbd3d9b",
   "metadata": {},
   "source": [
    "#### List to main library to data science\n",
    "1. Pandas\n",
    "2. Matplotlib\n",
    "3. Scikit learn\n",
    "4. numpy"
   ]
  },
  {
   "cell_type": "markdown",
   "id": "18304680",
   "metadata": {},
   "source": [
    "| Tools | Envoiroment |\n",
    "| --- | --- |\n",
    "| Jupyter Notebook | Python |\n",
    "| Visual Code | Java |"
   ]
  },
  {
   "cell_type": "markdown",
   "id": "b7156c59",
   "metadata": {},
   "source": [
    "#### Exemplos de Expressões Aritméticas\n",
    "\n",
    "Aritmética é a área da matemática que lida com números e as operações básicas realizadas com eles, como adição, subtração, multiplicação e divisão. Abaixo estão alguns exemplos de expressões aritméticas com explicação:\n",
    "\n",
    "1. **Adição:**\n",
    "   - Exemplo: 2 + 3 = 5\n",
    "   - Neste exemplo, estamos adicionando os números 2 e 3, resultando em 5.\n",
    "\n",
    "2. **Subtração:**\n",
    "   - Exemplo: 7 - 4 = 3\n",
    "   - Aqui, estamos subtraindo 4 de 7, o que nos dá 3 como resultado.\n",
    "\n",
    "3. **Multiplicação:**\n",
    "   - Exemplo: 5 * 6 = 30\n",
    "   - Esta expressão multiplica os números 5 e 6, resultando em 30.\n",
    "\n",
    "4. **Divisão:**\n",
    "   - Exemplo: 10 / 2 = 5\n",
    "   - Neste caso, estamos dividindo 10 por 2, o que nos dá 5 como resultado.\n",
    "\n",
    "Além dessas operações básicas, podemos também usar parênteses para controlar a ordem de execução das operações, como por exemplo:\n",
    "\n",
    "- (4 + 3) * 2 = 14\n",
    "- Neste caso, primeiro realizamos a adição dentro dos parênteses, que resulta em 7, e então multiplicamos por 2, dando 14.\n",
    "\n",
    "Estes são apenas alguns exemplos simples de expressões aritméticas. No Python, podemos usar essas expressões diretamente no código para realizar cálculos e manipular números."
   ]
  },
  {
   "cell_type": "code",
   "execution_count": 6,
   "id": "0b04d803",
   "metadata": {},
   "outputs": [
    {
     "name": "stdout",
     "output_type": "stream",
     "text": [
      "Soma de (2 + 2) + 2, é:  6\n",
      "Multiplicação de (2 * 2) * 2, é:  8\n"
     ]
    }
   ],
   "source": [
    "#### Multiplicar e adicionar números\n",
    "#### Adição\n",
    "soma = (2 + 2) + 2\n",
    "print('Soma de (2 + 2) + 2, é: ', soma)\n",
    "\n",
    "#### Multiplicação\n",
    "multiplicacao = (2 * 2) * 2\n",
    "print('Multiplicação de (2 * 2) * 2, é: ', multiplicacao)"
   ]
  },
  {
   "cell_type": "code",
   "execution_count": 11,
   "id": "95002104",
   "metadata": {},
   "outputs": [
    {
     "name": "stdout",
     "output_type": "stream",
     "text": [
      "Digite os minutos: 360\n",
      "360 minutos são equivalentes a 6.0 horas.\n"
     ]
    }
   ],
   "source": [
    "# Converter minutos em horas\n",
    "def converte_hora_mintuo(minutos):\n",
    "    hora = minuto / 60\n",
    "    return hora\n",
    "minuto = int(input('Digite os minutos: '))\n",
    "horas = converte_hora_mintuo(minuto)\n",
    "\n",
    "print(f\"{minuto} minutos são equivalentes a {horas} horas.\")"
   ]
  },
  {
   "cell_type": "markdown",
   "id": "b79b98bd",
   "metadata": {},
   "source": [
    "#### Objetivos\n",
    "\n",
    "- Praticar a utilização de células Markdown no Jupyter Notebook.\n",
    "- Aprender a formatar texto para melhorar a apresentação do notebook.\n",
    "- Demonstrar habilidades em documentar o conteúdo do notebook de forma clara e organizada."
   ]
  },
  {
   "cell_type": "markdown",
   "id": "4ec60ba8",
   "metadata": {},
   "source": [
    "#### Autor\n",
    "\n",
    "- Autor: [Lívio Azevedo]\n",
    "- Data: [12/02/2024]"
   ]
  },
  {
   "cell_type": "code",
   "execution_count": null,
   "id": "e7bc2c64",
   "metadata": {},
   "outputs": [],
   "source": []
  }
 ],
 "metadata": {
  "kernelspec": {
   "display_name": "Python 3 (ipykernel)",
   "language": "python",
   "name": "python3"
  },
  "language_info": {
   "codemirror_mode": {
    "name": "ipython",
    "version": 3
   },
   "file_extension": ".py",
   "mimetype": "text/x-python",
   "name": "python",
   "nbconvert_exporter": "python",
   "pygments_lexer": "ipython3",
   "version": "3.9.12"
  }
 },
 "nbformat": 4,
 "nbformat_minor": 5
}
